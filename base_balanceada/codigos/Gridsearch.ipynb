{
 "cells": [
  {
   "cell_type": "code",
   "execution_count": 2,
   "metadata": {},
   "outputs": [],
   "source": [
    "import pandas as pd\n",
    "import numpy as np\n",
    "import seaborn as sns\n",
    "from datetime import datetime\n",
    "import matplotlib.pyplot as plt\n",
    "%matplotlib inline\n",
    "from sklearn.model_selection import StratifiedKFold, GridSearchCV\n",
    "from sklearn.ensemble import RandomForestClassifier, GradientBoostingClassifier, AdaBoostClassifier, VotingClassifier, BaggingClassifier\n",
    "from sklearn.metrics import roc_auc_score, roc_curve, auc, precision_recall_curve\n",
    "from sklearn.metrics import classification_report, confusion_matrix\n",
    "from xgboost import XGBClassifier\n",
    "from mlxtend.plotting import plot_learning_curves\n",
    "from yellowbrick.model_selection import LearningCurve\n",
    "import matplotlib.gridspec as gridspec\n",
    "import itertools\n",
    "from sklearn.model_selection import cross_val_score, train_test_split\n",
    "from sklearn.tree import DecisionTreeClassifier\n",
    "from sklearn.metrics import accuracy_score\n",
    "from sklearn.linear_model import LogisticRegression\n",
    "from sklearn import tree\n",
    "from sklearn.naive_bayes import MultinomialNB\n",
    "from sklearn.utils import shuffle\n",
    "from sklearn.preprocessing import LabelEncoder, OrdinalEncoder\n",
    "from sklearn.metrics import recall_score "
   ]
  },
  {
   "cell_type": "markdown",
   "metadata": {},
   "source": [
    "**Função contador de tempo**"
   ]
  },
  {
   "cell_type": "code",
   "execution_count": 3,
   "metadata": {},
   "outputs": [],
   "source": [
    "def timer(start_time=None):\n",
    "    if not start_time:\n",
    "        start_time = datetime.now()\n",
    "        return start_time\n",
    "    elif start_time:\n",
    "        tmin, tsec = divmod((datetime.now() - start_time).total_seconds(), 60)\n",
    "        print('\\n Tempo Necessário: %i minutos and %s segundos.' % (tmin, round(tsec, 2)))"
   ]
  },
  {
   "cell_type": "markdown",
   "metadata": {},
   "source": [
    "**Inserir os caminhos de Treino e Validação - Testar com a base de teste somente no final**  \n",
    "**Ajustar a quantia de características no dataframe**  \n",
    "**Ajustar o nome da variável alvo**"
   ]
  },
  {
   "cell_type": "code",
   "execution_count": 4,
   "metadata": {},
   "outputs": [],
   "source": [
    "train = pd.read_csv('trainLR.csv')\n",
    "X_train = train.iloc[:,1:87]\n",
    "Y_train = train.loc[:, train.columns == 'Y']\n",
    "test = pd.read_csv('validationLR.csv')\n",
    "X_test = test.iloc[:,1:87]\n",
    "Y_test = test.loc[:, test.columns == 'Y']"
   ]
  },
  {
   "cell_type": "markdown",
   "metadata": {},
   "source": [
    "**Criar um XGBClassifier para usar como referência**"
   ]
  },
  {
   "cell_type": "code",
   "execution_count": 5,
   "metadata": {},
   "outputs": [],
   "source": [
    "from sklearn.model_selection import KFold\n",
    "from sklearn.model_selection import cross_val_score"
   ]
  },
  {
   "cell_type": "code",
   "execution_count": 6,
   "metadata": {},
   "outputs": [],
   "source": [
    "kfold = KFold(n_splits=3, random_state=7)"
   ]
  },
  {
   "cell_type": "code",
   "execution_count": 22,
   "metadata": {},
   "outputs": [],
   "source": [
    "xgb_clf = XGBClassifier(base_score=0.5, booster='gbtree', colsample_bylevel=1,\n",
    "              colsample_bynode=1, colsample_bytree=1, gamma=0,\n",
    "              learning_rate=0.1, max_delta_step=0, max_depth=3,\n",
    "              min_child_weight=1, missing=None, n_estimators=96, n_jobs=1,\n",
    "              nthread=None, objective='binary:logistic', random_state=0,\n",
    "              reg_alpha=0, reg_lambda=1, scale_pos_weight=1, seed=None,\n",
    "              silent=None, subsample=1, verbosity=1)\n",
    "\n",
    "xgb_clf.fit(X_train, Y_train.values.ravel())\n",
    "scores = cross_val_score(xgb_clf, X_train, Y_train.values.ravel(), cv=kfold, scoring='precision')"
   ]
  },
  {
   "cell_type": "code",
   "execution_count": 23,
   "metadata": {},
   "outputs": [
    {
     "name": "stdout",
     "output_type": "stream",
     "text": [
      "0.6016276570380427\n"
     ]
    }
   ],
   "source": [
    "print(scores.mean())"
   ]
  },
  {
   "cell_type": "markdown",
   "metadata": {},
   "source": [
    "**Importar Gridsearch e eleger os parâmetros otimizados para o XGBClassifier** "
   ]
  },
  {
   "cell_type": "code",
   "execution_count": 11,
   "metadata": {},
   "outputs": [],
   "source": [
    "from sklearn.model_selection import GridSearchCV"
   ]
  },
  {
   "cell_type": "code",
   "execution_count": 13,
   "metadata": {},
   "outputs": [],
   "source": [
    "#Parâmetros XGBC\n",
    "learning_rate=[0.1,0.2,0.3,0.4,0.5]\n",
    "max_depth=[3,4,5,6,7,8,9,10]\n",
    "objective=['binary:logitraw','binary:logistic']\n",
    "n_estimators=[200,300,400,500]\n",
    "param_grid = dict(learning_rate=learning_rate, max_depth=max_depth, objective=objective, n_estimators=n_estimators)"
   ]
  },
  {
   "cell_type": "code",
   "execution_count": 15,
   "metadata": {},
   "outputs": [
    {
     "name": "stderr",
     "output_type": "stream",
     "text": [
      "/home/nakayama/anaconda3/envs/ML_Final/lib/python3.7/site-packages/joblib/externals/loky/process_executor.py:706: UserWarning: A worker stopped while some jobs were given to the executor. This can be caused by a too short worker timeout or by a memory leak.\n",
      "  \"timeout or by a memory leak.\", UserWarning\n"
     ]
    },
    {
     "name": "stdout",
     "output_type": "stream",
     "text": [
      "Best: 0.628343 using {'learning_rate': 0.2, 'max_depth': 3, 'n_estimators': 200, 'objective': 'binary:logistic'}\n",
      "Execution time: 11259.44020819664 ms\n"
     ]
    }
   ],
   "source": [
    "import time\n",
    "xgb_clf = XGBClassifier(penalty='l2')\n",
    "grid = GridSearchCV(estimator=xgb_clf, param_grid=param_grid, cv =3, n_jobs=4)\n",
    "\n",
    "start_time = time.time()\n",
    "grid_result = grid.fit(X_train, Y_train.values.ravel())\n",
    "# Summarize results\n",
    "print(\"Best: %f using %s\" % (grid_result.best_score_, grid_result.best_params_))\n",
    "print(\"Execution time: \" + str((time.time() - start_time)) + ' ms')"
   ]
  },
  {
   "cell_type": "markdown",
   "metadata": {},
   "source": [
    "**Criar um Random Forest para usar como referência**"
   ]
  },
  {
   "cell_type": "code",
   "execution_count": 16,
   "metadata": {},
   "outputs": [
    {
     "name": "stdout",
     "output_type": "stream",
     "text": [
      "0.5483137752175815\n"
     ]
    }
   ],
   "source": [
    "kfold = KFold(n_splits=3, random_state=7)\n",
    "rf = RandomForestClassifier(n_estimators=200, \n",
    "                                max_depth=2, criterion='entropy', \n",
    "                                n_jobs=4)\n",
    "scores = cross_val_score(rf, X_train, Y_train.values.ravel(), cv=kfold, scoring='precision')\n",
    "print(scores.mean())"
   ]
  },
  {
   "cell_type": "markdown",
   "metadata": {},
   "source": [
    "**Criar uma Árvore de decisão para usar como referência**"
   ]
  },
  {
   "cell_type": "code",
   "execution_count": 24,
   "metadata": {},
   "outputs": [
    {
     "name": "stdout",
     "output_type": "stream",
     "text": [
      "0.5602895955891993\n"
     ]
    }
   ],
   "source": [
    "kfold = KFold(n_splits=3, random_state=7)\n",
    "dt = DecisionTreeClassifier(class_weight=None, criterion='entropy', max_depth=None, max_features=None, max_leaf_nodes=None)\n",
    "scores = cross_val_score(dt, X_train, Y_train.values.ravel(), cv=kfold, scoring='precision')\n",
    "print(scores.mean())"
   ]
  },
  {
   "cell_type": "markdown",
   "metadata": {},
   "source": [
    "**Criar um AdaBoost para usar como referência**"
   ]
  },
  {
   "cell_type": "code",
   "execution_count": 25,
   "metadata": {},
   "outputs": [
    {
     "name": "stdout",
     "output_type": "stream",
     "text": [
      "0.5935179168967303\n"
     ]
    }
   ],
   "source": [
    "kfold = KFold(n_splits=3, random_state=7)\n",
    "ada = AdaBoostClassifier(n_estimators=200, random_state=1, learning_rate=0.5)\n",
    "scores = cross_val_score(ada, X_train, Y_train.values.ravel(), cv=kfold, scoring='precision')\n",
    "print(scores.mean())"
   ]
  },
  {
   "cell_type": "markdown",
   "metadata": {},
   "source": [
    "**Importar Gridsearch e eleger os parâmetros otimizados para o Adaboost** "
   ]
  },
  {
   "cell_type": "code",
   "execution_count": 33,
   "metadata": {},
   "outputs": [],
   "source": [
    "#Parâmetros Adaboost\n",
    "learning_rate=[0.1,0.2,0.3,0.4,0.5,0.6]\n",
    "n_estimators=[200,300,400,500,600,700,800,1000]\n",
    "param_grid = dict(learning_rate=learning_rate,  n_estimators=n_estimators)"
   ]
  },
  {
   "cell_type": "code",
   "execution_count": 34,
   "metadata": {},
   "outputs": [
    {
     "name": "stdout",
     "output_type": "stream",
     "text": [
      "Best: 0.614828 using {'learning_rate': 0.4, 'n_estimators': 600}\n",
      "Execution time: 1229.4651312828064 ms\n"
     ]
    }
   ],
   "source": [
    "import time\n",
    "ada = AdaBoostClassifier()\n",
    "grid = GridSearchCV(estimator=ada, param_grid = param_grid, cv =3, n_jobs=4)\n",
    "\n",
    "start_time = time.time()\n",
    "grid_result = grid.fit(X_train, Y_train.values.ravel())\n",
    "# Summarize results\n",
    "print(\"Best: %f using %s\" % (grid_result.best_score_, grid_result.best_params_))\n",
    "print(\"Execution time: \" + str((time.time() - start_time)) + ' ms')"
   ]
  },
  {
   "cell_type": "markdown",
   "metadata": {},
   "source": [
    "**Criar um Naive Bayes para usar como referência**"
   ]
  },
  {
   "cell_type": "code",
   "execution_count": 39,
   "metadata": {},
   "outputs": [
    {
     "name": "stdout",
     "output_type": "stream",
     "text": [
      "0.5489127425413282\n"
     ]
    }
   ],
   "source": [
    "kfold = KFold(n_splits=3, random_state=7)\n",
    "nb = GaussianNB()\n",
    "scores = cross_val_score(nb, X_train, Y_train.values.ravel(), cv=kfold, scoring='precision')\n",
    "print(scores.mean())"
   ]
  },
  {
   "cell_type": "markdown",
   "metadata": {},
   "source": [
    "**Criar uma SVM para usar como referência**"
   ]
  },
  {
   "cell_type": "code",
   "execution_count": 8,
   "metadata": {},
   "outputs": [
    {
     "name": "stdout",
     "output_type": "stream",
     "text": [
      "0.5804914870300352\n"
     ]
    }
   ],
   "source": [
    "from sklearn.svm import SVC\n",
    "svc = SVC(probability=False, gamma='auto')\n",
    "scores = cross_val_score(svc, X_train, Y_train.values.ravel(), cv=kfold, scoring='precision')\n",
    "print(scores.mean())"
   ]
  },
  {
   "cell_type": "markdown",
   "metadata": {},
   "source": [
    "**Criar uma LDA para usar como referência**"
   ]
  },
  {
   "cell_type": "code",
   "execution_count": 10,
   "metadata": {},
   "outputs": [
    {
     "name": "stderr",
     "output_type": "stream",
     "text": [
      "/home/nakayama/.local/lib/python3.7/site-packages/sklearn/discriminant_analysis.py:388: UserWarning: Variables are collinear.\n",
      "  warnings.warn(\"Variables are collinear.\")\n",
      "/home/nakayama/.local/lib/python3.7/site-packages/sklearn/discriminant_analysis.py:388: UserWarning: Variables are collinear.\n",
      "  warnings.warn(\"Variables are collinear.\")\n"
     ]
    },
    {
     "name": "stdout",
     "output_type": "stream",
     "text": [
      "0.5653290656607292\n"
     ]
    },
    {
     "name": "stderr",
     "output_type": "stream",
     "text": [
      "/home/nakayama/.local/lib/python3.7/site-packages/sklearn/discriminant_analysis.py:388: UserWarning: Variables are collinear.\n",
      "  warnings.warn(\"Variables are collinear.\")\n"
     ]
    }
   ],
   "source": [
    "from sklearn.discriminant_analysis import LinearDiscriminantAnalysis as LDA\n",
    "kfold = KFold(n_splits=3, random_state=7)\n",
    "lda = LDA(n_components=1)\n",
    "scores = cross_val_score(lda, X_train, Y_train.values.ravel(), cv=kfold, scoring='precision')\n",
    "print(scores.mean())"
   ]
  },
  {
   "cell_type": "markdown",
   "metadata": {},
   "source": [
    "**Criar um KNN para usar como referência**"
   ]
  },
  {
   "cell_type": "code",
   "execution_count": 11,
   "metadata": {},
   "outputs": [
    {
     "name": "stdout",
     "output_type": "stream",
     "text": [
      "0.5652540714793778\n"
     ]
    }
   ],
   "source": [
    "from sklearn.neighbors import KNeighborsClassifier\n",
    "kfold = KFold(n_splits=3, random_state=7)\n",
    "knn = KNeighborsClassifier()\n",
    "scores = cross_val_score(knn, X_train, Y_train.values.ravel(), cv=kfold, scoring='precision')\n",
    "print(scores.mean())"
   ]
  },
  {
   "cell_type": "markdown",
   "metadata": {},
   "source": [
    "**Criar uma Random Forest para usar como referência**"
   ]
  },
  {
   "cell_type": "code",
   "execution_count": 13,
   "metadata": {},
   "outputs": [
    {
     "name": "stdout",
     "output_type": "stream",
     "text": [
      "0.548952159082064\n"
     ]
    }
   ],
   "source": [
    "kfold = KFold(n_splits=3, random_state=7)\n",
    "rf = RandomForestClassifier(n_estimators=200, \n",
    "                                max_depth=2, criterion='entropy', \n",
    "                                n_jobs=4)\n",
    "scores = cross_val_score(rf, X_train, Y_train.values.ravel(), cv=kfold, scoring='precision')\n",
    "print(scores.mean())"
   ]
  },
  {
   "cell_type": "markdown",
   "metadata": {},
   "source": [
    "**Importar Gridsearch e eleger os parâmetros otimizados para a Random Forest** "
   ]
  },
  {
   "cell_type": "code",
   "execution_count": 14,
   "metadata": {},
   "outputs": [],
   "source": [
    "#Parâmetros RF\n",
    "max_depth=[2,3,4,5,6,7,8]\n",
    "criterion=['entropy','gini']\n",
    "n_estimators=[100, 200,300,400,500]\n",
    "param_grid = dict(max_depth=max_depth, criterion=criterion, n_estimators=n_estimators)"
   ]
  },
  {
   "cell_type": "code",
   "execution_count": 15,
   "metadata": {},
   "outputs": [
    {
     "name": "stdout",
     "output_type": "stream",
     "text": [
      "Best: 0.616492 using {'criterion': 'gini', 'max_depth': 8, 'n_estimators': 300}\n",
      "Execution time: 311.5600333213806 ms\n"
     ]
    }
   ],
   "source": [
    "import time\n",
    "rf = RandomForestClassifier()\n",
    "grid = GridSearchCV(estimator=rf, param_grid = param_grid, cv =3, n_jobs=4)\n",
    "\n",
    "start_time = time.time()\n",
    "grid_result = grid.fit(X_train, Y_train.values.ravel())\n",
    "# Summarize results\n",
    "print(\"Best: %f using %s\" % (grid_result.best_score_, grid_result.best_params_))\n",
    "print(\"Execution time: \" + str((time.time() - start_time)) + ' ms')"
   ]
  },
  {
   "cell_type": "code",
   "execution_count": null,
   "metadata": {},
   "outputs": [],
   "source": []
  }
 ],
 "metadata": {
  "colab": {
   "name": "FeatureSelection.ipynb",
   "provenance": []
  },
  "kernelspec": {
   "display_name": "Python 3",
   "language": "python",
   "name": "python3"
  },
  "language_info": {
   "codemirror_mode": {
    "name": "ipython",
    "version": 3
   },
   "file_extension": ".py",
   "mimetype": "text/x-python",
   "name": "python",
   "nbconvert_exporter": "python",
   "pygments_lexer": "ipython3",
   "version": "3.7.5"
  }
 },
 "nbformat": 4,
 "nbformat_minor": 1
}
